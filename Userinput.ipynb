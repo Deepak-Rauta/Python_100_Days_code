{
 "cells": [
  {
   "cell_type": "code",
   "execution_count": null,
   "id": "f6a18426",
   "metadata": {},
   "outputs": [
    {
     "name": "stdout",
     "output_type": "stream",
     "text": [
      "My name is Nita\n"
     ]
    }
   ],
   "source": [
    "a = input(\"Enter your name:\")\n",
    "print(\"My name is\", a)"
   ]
  },
  {
   "cell_type": "code",
   "execution_count": 3,
   "id": "5e692fa5",
   "metadata": {},
   "outputs": [
    {
     "name": "stdout",
     "output_type": "stream",
     "text": [
      "12\n"
     ]
    }
   ],
   "source": [
    "x = input(\"Enter the first name:\")\n",
    "y = input(\"Enter the second number:\")\n",
    "print(x + y)"
   ]
  },
  {
   "cell_type": "code",
   "execution_count": null,
   "id": "de15f8ee",
   "metadata": {},
   "outputs": [
    {
     "name": "stdout",
     "output_type": "stream",
     "text": [
      "The number is: 3\n"
     ]
    }
   ],
   "source": [
    "x = int(input(\"Enter the first name:\"))\n",
    "y = int(input(\"Enter the second number:\"))\n",
    "print(f\"The number is:\", x+y)"
   ]
  },
  {
   "cell_type": "code",
   "execution_count": null,
   "id": "1b11d555",
   "metadata": {},
   "outputs": [],
   "source": []
  }
 ],
 "metadata": {
  "kernelspec": {
   "display_name": "Python 3",
   "language": "python",
   "name": "python3"
  },
  "language_info": {
   "codemirror_mode": {
    "name": "ipython",
    "version": 3
   },
   "file_extension": ".py",
   "mimetype": "text/x-python",
   "name": "python",
   "nbconvert_exporter": "python",
   "pygments_lexer": "ipython3",
   "version": "3.10.18"
  }
 },
 "nbformat": 4,
 "nbformat_minor": 5
}
