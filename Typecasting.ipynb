{
 "cells": [
  {
   "cell_type": "markdown",
   "id": "e7d43634",
   "metadata": {},
   "source": [
    "## Typecasting in python\n",
    "\n",
    "- The conversion of one data type into another data type is known as type casting\n",
    "\n",
    "- Python supports is a wide variety of function or methods like: int(), float(), str(), hex(), oct(), tuple(), set(), list(), dict(), etc. for the type of casting in python.\n"
   ]
  },
  {
   "cell_type": "code",
   "execution_count": 1,
   "id": "284d1f9a",
   "metadata": {},
   "outputs": [
    {
     "name": "stdout",
     "output_type": "stream",
     "text": [
      "3\n"
     ]
    }
   ],
   "source": [
    "a = \"1\"\n",
    "b = \"2\"\n",
    "\n",
    "print(int(a) + int(b))"
   ]
  },
  {
   "cell_type": "markdown",
   "id": "a7a457f3",
   "metadata": {},
   "source": [
    "## 🔁 1. Integer to Float"
   ]
  },
  {
   "cell_type": "code",
   "execution_count": 2,
   "id": "853a3b9f",
   "metadata": {},
   "outputs": [
    {
     "name": "stdout",
     "output_type": "stream",
     "text": [
      "5.0\n"
     ]
    }
   ],
   "source": [
    "x = 5\n",
    "y = float(x)\n",
    "print(y)"
   ]
  },
  {
   "cell_type": "markdown",
   "id": "afa4f2a1",
   "metadata": {},
   "source": [
    "## 🔁 2. Float to Integer"
   ]
  },
  {
   "cell_type": "code",
   "execution_count": 3,
   "id": "fbabd836",
   "metadata": {},
   "outputs": [
    {
     "name": "stdout",
     "output_type": "stream",
     "text": [
      "9\n"
     ]
    }
   ],
   "source": [
    "x = 9.3\n",
    "y = int(x)\n",
    "print(y)"
   ]
  },
  {
   "cell_type": "markdown",
   "id": "160afedc",
   "metadata": {},
   "source": [
    "## 🔁 3. String to Integer"
   ]
  },
  {
   "cell_type": "code",
   "execution_count": 4,
   "id": "19f5ec16",
   "metadata": {},
   "outputs": [
    {
     "name": "stdout",
     "output_type": "stream",
     "text": [
      "123\n"
     ]
    }
   ],
   "source": [
    "x = \"123\"\n",
    "y = int(x)\n",
    "print(y)"
   ]
  },
  {
   "cell_type": "markdown",
   "id": "0deaf4ac",
   "metadata": {},
   "source": [
    "## 🔁 4. String to Float\n",
    "\n"
   ]
  },
  {
   "cell_type": "code",
   "execution_count": 5,
   "id": "673ea55a",
   "metadata": {},
   "outputs": [
    {
     "name": "stdout",
     "output_type": "stream",
     "text": [
      "56.78\n"
     ]
    }
   ],
   "source": [
    "x = \"56.78\"\n",
    "y = float(x)\n",
    "print(y)"
   ]
  },
  {
   "cell_type": "markdown",
   "id": "2b2733e7",
   "metadata": {},
   "source": [
    "## 🔁 5. Integer to String\n"
   ]
  },
  {
   "cell_type": "code",
   "execution_count": 7,
   "id": "f05e101f",
   "metadata": {},
   "outputs": [
    {
     "name": "stdout",
     "output_type": "stream",
     "text": [
      "100 is a number\n"
     ]
    }
   ],
   "source": [
    "x = 100\n",
    "y = str(x)\n",
    "print(y + \" is a number\")  # Output: 100 is a number\n"
   ]
  },
  {
   "cell_type": "markdown",
   "id": "7e921c42",
   "metadata": {},
   "source": [
    "## 🔁 6. Float to String\n"
   ]
  },
  {
   "cell_type": "code",
   "execution_count": 8,
   "id": "de77cbd5",
   "metadata": {},
   "outputs": [
    {
     "name": "stdout",
     "output_type": "stream",
     "text": [
      "The value is 12.34\n"
     ]
    }
   ],
   "source": [
    "x = 12.34\n",
    "y = str(x)\n",
    "print(\"The value is \" + y)  # Output: The value is 12.34\n"
   ]
  },
  {
   "cell_type": "code",
   "execution_count": null,
   "id": "b31d4030",
   "metadata": {},
   "outputs": [],
   "source": []
  }
 ],
 "metadata": {
  "kernelspec": {
   "display_name": "Python 3",
   "language": "python",
   "name": "python3"
  },
  "language_info": {
   "codemirror_mode": {
    "name": "ipython",
    "version": 3
   },
   "file_extension": ".py",
   "mimetype": "text/x-python",
   "name": "python",
   "nbconvert_exporter": "python",
   "pygments_lexer": "ipython3",
   "version": "3.10.18"
  }
 },
 "nbformat": 4,
 "nbformat_minor": 5
}
